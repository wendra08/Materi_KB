{
 "cells": [
  {
   "cell_type": "code",
   "execution_count": 4,
   "metadata": {},
   "outputs": [],
   "source": [
    "import tensorflow as tf\n",
    "from tensorflow.keras.preprocessing.text import Tokenizer"
   ]
  },
  {
   "cell_type": "code",
   "execution_count": 5,
   "metadata": {},
   "outputs": [],
   "source": [
    "Kalimat = [\n",
    "    'Saya suka kucing',\n",
    "    'Saya suka makan ayam'\n",
    "]"
   ]
  },
  {
   "cell_type": "code",
   "execution_count": 9,
   "metadata": {},
   "outputs": [],
   "source": [
    "tokenizer = Tokenizer(num_words=3)\n",
    "tokenizer.fit_on_texts(Kalimat)"
   ]
  },
  {
   "cell_type": "code",
   "execution_count": 10,
   "metadata": {},
   "outputs": [
    {
     "name": "stdout",
     "output_type": "stream",
     "text": [
      "{'saya': 1, 'suka': 2, 'kucing': 3, 'makan': 4, 'ayam': 5}\n"
     ]
    }
   ],
   "source": [
    "word_index = tokenizer.word_index\n",
    "print(word_index)"
   ]
  },
  {
   "cell_type": "code",
   "execution_count": 11,
   "metadata": {},
   "outputs": [
    {
     "name": "stdout",
     "output_type": "stream",
     "text": [
      "indkes kata : {'saya': 1, 'suka': 2, 'kucing': 3, 'makan': 4, 'ayam': 5}\n",
      "sequence : [[1, 2], [1, 2]]\n"
     ]
    }
   ],
   "source": [
    "seq = tokenizer.texts_to_sequences(Kalimat)\n",
    "print('indkes kata :', word_index)\n",
    "print('sequence :', seq)"
   ]
  },
  {
   "cell_type": "code",
   "execution_count": 12,
   "metadata": {},
   "outputs": [],
   "source": [
    "from tensorflow.keras.preprocessing.sequence import pad_sequences"
   ]
  },
  {
   "cell_type": "code",
   "execution_count": 14,
   "metadata": {},
   "outputs": [
    {
     "name": "stdout",
     "output_type": "stream",
     "text": [
      "[[1 2 0 0 0]\n",
      " [1 2 0 0 0]]\n"
     ]
    }
   ],
   "source": [
    "pad = pad_sequences(seq, maxlen=5, padding='post')\n",
    "print(pad)"
   ]
  },
  {
   "cell_type": "code",
   "execution_count": null,
   "metadata": {},
   "outputs": [],
   "source": []
  }
 ],
 "metadata": {
  "kernelspec": {
   "display_name": "Python 3.10.7 64-bit",
   "language": "python",
   "name": "python3"
  },
  "language_info": {
   "codemirror_mode": {
    "name": "ipython",
    "version": 3
   },
   "file_extension": ".py",
   "mimetype": "text/x-python",
   "name": "python",
   "nbconvert_exporter": "python",
   "pygments_lexer": "ipython3",
   "version": "3.10.7"
  },
  "orig_nbformat": 4,
  "vscode": {
   "interpreter": {
    "hash": "cf82468c729b6304ed506bfd0627eaaf0228f95b62ceb5ee5f980165fc41435e"
   }
  }
 },
 "nbformat": 4,
 "nbformat_minor": 2
}
