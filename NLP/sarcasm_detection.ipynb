{
 "cells": [
  {
   "cell_type": "code",
   "execution_count": 7,
   "metadata": {},
   "outputs": [],
   "source": [
    "import tensorflow as tf\n",
    "import json\n",
    "import numpy as np\n",
    "from tensorflow.keras.preprocessing.text import Tokenizer\n",
    "from tensorflow.keras.preprocessing.sequence import pad_sequences\n"
   ]
  },
  {
   "cell_type": "code",
   "execution_count": 19,
   "metadata": {},
   "outputs": [],
   "source": [
    "with open(\"./sarcasm-detection-main/sarcasm-detection-main/sarcasm.json\", 'r') as file: \n",
    "    dataset = json.load(file)"
   ]
  },
  {
   "cell_type": "code",
   "execution_count": 44,
   "metadata": {},
   "outputs": [
    {
     "name": "stdout",
     "output_type": "stream",
     "text": [
      "26709\n"
     ]
    }
   ],
   "source": [
    "print(len(dataset))"
   ]
  },
  {
   "cell_type": "code",
   "execution_count": 45,
   "metadata": {},
   "outputs": [],
   "source": [
    "vocab_size = 1000\n",
    "embedding_dim = 16\n",
    "max_length = 120\n",
    "trunc_type = 'post'\n",
    "padding_type = 'post'\n",
    "oov_tok = '<OOV>'\n",
    "training_size = 20000\n",
    "testing_size = 709"
   ]
  },
  {
   "cell_type": "code",
   "execution_count": 46,
   "metadata": {},
   "outputs": [],
   "source": [
    "kalimat = []\n",
    "label = []\n",
    "\n",
    "for item in dataset:\n",
    "    kalimat.append(item['headline'])\n",
    "    label.append(item['is_sarcastic'])"
   ]
  },
  {
   "cell_type": "code",
   "execution_count": 48,
   "metadata": {},
   "outputs": [],
   "source": [
    "kalimat_training = kalimat[:training_size]\n",
    "kalimat_validation = kalimat[training_size:testing_size]\n",
    "kalimat_testing = kalimat[testing_size:]\n",
    "\n",
    "label_training = label[:training_size]\n",
    "label_validation = label[training_size:testing_size]\n",
    "label_testing = label[testing_size:]"
   ]
  },
  {
   "cell_type": "code",
   "execution_count": 54,
   "metadata": {},
   "outputs": [],
   "source": [
    "tokenizer = Tokenizer(num_words=vocab_size, oov_token=oov_tok)\n",
    "\n",
    "tokenizer.fit_on_texts(kalimat_training)\n",
    "\n",
    "training_sequence = tokenizer.texts_to_sequences(kalimat_training)\n",
    "training_padding = pad_sequences(training_sequence, maxlen=max_length, padding=padding_type, truncating=trunc_type)\n",
    "\n",
    "\n",
    "validation_sequence = tokenizer.texts_to_sequences(kalimat_validation)\n",
    "validation_padding = pad_sequences(validation_sequence, maxlen=max_length, padding=padding_type, truncating=trunc_type)\n",
    "\n",
    "\n",
    "testing_sequence = tokenizer.texts_to_sequences(kalimat_testing)\n",
    "testing_padding = pad_sequences(testing_sequence, maxlen=max_length, padding=padding_type, truncating=trunc_type)"
   ]
  },
  {
   "cell_type": "code",
   "execution_count": 55,
   "metadata": {},
   "outputs": [],
   "source": [
    "label_training = np.array(label_training)\n",
    "label_validation = np.array(label_validation)\n",
    "label_testing = np.array(label_testing)"
   ]
  },
  {
   "cell_type": "code",
   "execution_count": 56,
   "metadata": {},
   "outputs": [],
   "source": [
    "model = tf.keras.Sequential([\n",
    "    tf.keras.layers.Embedding(vocab_size, embedding_dim, input_length=max_length),\n",
    "    # tf.keras.layers.GlobalAvgPool1D(),\n",
    "    tf.keras.layers.Bidirectional(tf.keras.layers.LSTM(48)),\n",
    "    tf.keras.layers.Dense(24, activation = 'relu'),\n",
    "    tf.keras.layers.Dense(1, activation='sigmoid')\n",
    "])"
   ]
  },
  {
   "cell_type": "code",
   "execution_count": 57,
   "metadata": {},
   "outputs": [],
   "source": [
    "model.compile(\n",
    "    optimizer='rmsprop',\n",
    "    loss = 'binary_crossentropy',\n",
    "    metrics=['accuracy']\n",
    ")"
   ]
  },
  {
   "cell_type": "code",
   "execution_count": 58,
   "metadata": {},
   "outputs": [
    {
     "name": "stdout",
     "output_type": "stream",
     "text": [
      "Epoch 1/10\n",
      "625/625 [==============================] - 15s 21ms/step - loss: 0.4802 - accuracy: 0.7587\n",
      "Epoch 2/10\n",
      "625/625 [==============================] - 13s 21ms/step - loss: 0.3680 - accuracy: 0.8309\n",
      "Epoch 3/10\n",
      "625/625 [==============================] - 13s 21ms/step - loss: 0.3473 - accuracy: 0.8426\n",
      "Epoch 4/10\n",
      "625/625 [==============================] - 13s 21ms/step - loss: 0.3346 - accuracy: 0.8493\n",
      "Epoch 5/10\n",
      "625/625 [==============================] - 13s 21ms/step - loss: 0.3232 - accuracy: 0.8566\n",
      "Epoch 6/10\n",
      "625/625 [==============================] - 14s 22ms/step - loss: 0.3141 - accuracy: 0.8613\n",
      "Epoch 7/10\n",
      "625/625 [==============================] - 13s 20ms/step - loss: 0.3056 - accuracy: 0.8650\n",
      "Epoch 8/10\n",
      "625/625 [==============================] - 13s 21ms/step - loss: 0.2980 - accuracy: 0.8698\n",
      "Epoch 9/10\n",
      "625/625 [==============================] - 14s 22ms/step - loss: 0.2920 - accuracy: 0.8734\n",
      "Epoch 10/10\n",
      "625/625 [==============================] - 14s 22ms/step - loss: 0.2865 - accuracy: 0.8756\n"
     ]
    }
   ],
   "source": [
    "history = model.fit(\n",
    "    training_padding, label_training,\n",
    "    validation_data = (validation_padding, label_validation),\n",
    "    epochs=10\n",
    ")"
   ]
  }
 ],
 "metadata": {
  "kernelspec": {
   "display_name": "Python 3.10.7 64-bit",
   "language": "python",
   "name": "python3"
  },
  "language_info": {
   "codemirror_mode": {
    "name": "ipython",
    "version": 3
   },
   "file_extension": ".py",
   "mimetype": "text/x-python",
   "name": "python",
   "nbconvert_exporter": "python",
   "pygments_lexer": "ipython3",
   "version": "3.10.7"
  },
  "orig_nbformat": 4,
  "vscode": {
   "interpreter": {
    "hash": "cf82468c729b6304ed506bfd0627eaaf0228f95b62ceb5ee5f980165fc41435e"
   }
  }
 },
 "nbformat": 4,
 "nbformat_minor": 2
}
